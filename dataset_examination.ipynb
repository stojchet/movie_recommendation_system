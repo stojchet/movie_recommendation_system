{
 "cells": [
  {
   "cell_type": "code",
   "execution_count": 2,
   "metadata": {
    "collapsed": true,
    "ExecuteTime": {
     "end_time": "2023-09-18T09:16:58.851981889Z",
     "start_time": "2023-09-18T09:16:56.246713607Z"
    }
   },
   "outputs": [
    {
     "name": "stderr",
     "output_type": "stream",
     "text": [
      "2023-09-18 11:16:56.979415: I tensorflow/core/util/port.cc:110] oneDNN custom operations are on. You may see slightly different numerical results due to floating-point round-off errors from different computation orders. To turn them off, set the environment variable `TF_ENABLE_ONEDNN_OPTS=0`.\n",
      "2023-09-18 11:16:57.014052: I tensorflow/tsl/cuda/cudart_stub.cc:28] Could not find cuda drivers on your machine, GPU will not be used.\n",
      "2023-09-18 11:16:57.147796: I tensorflow/tsl/cuda/cudart_stub.cc:28] Could not find cuda drivers on your machine, GPU will not be used.\n",
      "2023-09-18 11:16:57.148515: I tensorflow/core/platform/cpu_feature_guard.cc:182] This TensorFlow binary is optimized to use available CPU instructions in performance-critical operations.\n",
      "To enable the following instructions: AVX2 AVX512F AVX512_VNNI FMA, in other operations, rebuild TensorFlow with the appropriate compiler flags.\n",
      "2023-09-18 11:16:57.920477: W tensorflow/compiler/tf2tensorrt/utils/py_utils.cc:38] TF-TRT Warning: Could not find TensorRT\n"
     ]
    },
    {
     "data": {
      "text/plain": "<tf.Tensor: shape=(1, 28), dtype=float32, numpy=\narray([[5.1084e+04, 6.6205e+04, 0.0000e+00, 0.0000e+00, 0.0000e+00,\n        0.0000e+00, 0.0000e+00, 1.0000e+00, 0.0000e+00, 0.0000e+00,\n        0.0000e+00, 0.0000e+00, 0.0000e+00, 0.0000e+00, 0.0000e+00,\n        0.0000e+00, 0.0000e+00, 1.0000e+00, 0.0000e+00, 0.0000e+00,\n        0.0000e+00, 0.0000e+00, 6.2133e-01, 2.1420e+03, 2.0070e+03,\n        0.0000e+00, 1.0000e+00, 1.0000e+00]], dtype=float32)>"
     },
     "execution_count": 2,
     "metadata": {},
     "output_type": "execute_result"
    }
   ],
   "source": [
    "from input.dataset.util.util import DatasetUtil\n",
    "\n",
    "X, y = DatasetUtil.load_X_y_tensor_datasets(include_trailer=False)\n",
    "X[:1, :]"
   ]
  },
  {
   "cell_type": "code",
   "execution_count": 3,
   "outputs": [
    {
     "data": {
      "text/plain": "<_TakeDataset element_spec=({'movie_features': TensorSpec(shape=(24,), dtype=tf.float32, name=None), 'movie_ids': TensorSpec(shape=(), dtype=tf.float32, name=None), 'user_ids': TensorSpec(shape=(), dtype=tf.float32, name=None), 'user_context': TensorSpec(shape=(2,), dtype=tf.float32, name=None)}, TensorSpec(shape=(), dtype=tf.float32, name=None))>"
     },
     "execution_count": 3,
     "metadata": {},
     "output_type": "execute_result"
    }
   ],
   "source": [
    "from utils.utils import BASE_TF_DATA\n",
    "from utils.constants import DEV\n",
    "\n",
    "dataset = DatasetUtil.load_dataset(DEV, BASE_TF_DATA)\n",
    "dataset.take(1)"
   ],
   "metadata": {
    "collapsed": false,
    "ExecuteTime": {
     "end_time": "2023-09-18T09:16:58.904852591Z",
     "start_time": "2023-09-18T09:16:58.851580496Z"
    }
   }
  },
  {
   "cell_type": "code",
   "execution_count": 4,
   "outputs": [
    {
     "data": {
      "text/plain": "<tf.Tensor: shape=(1, 148), dtype=float32, numpy=\narray([[ 5.1084000e+04,  6.6205000e+04,  0.0000000e+00,  0.0000000e+00,\n         0.0000000e+00,  0.0000000e+00,  0.0000000e+00,  1.0000000e+00,\n         0.0000000e+00,  0.0000000e+00,  0.0000000e+00,  0.0000000e+00,\n         0.0000000e+00,  0.0000000e+00,  0.0000000e+00,  0.0000000e+00,\n         0.0000000e+00,  1.0000000e+00,  0.0000000e+00,  0.0000000e+00,\n         0.0000000e+00,  0.0000000e+00,  6.2133002e-01,  2.1420000e+03,\n         2.0070000e+03,  0.0000000e+00,  1.0000000e+00,  1.0000000e+00,\n        -2.0273091e-01,  9.5523708e-02, -1.2771620e-01,  8.2465366e-02,\n        -1.6473647e-02, -3.9859116e-02, -2.5076721e-02, -5.0548602e-02,\n         1.8137518e-01,  2.9489623e-02,  4.7989987e-02,  9.0243192e-03,\n         4.6561722e-02,  1.5344238e-01, -9.5781952e-02, -2.4961164e-02,\n         3.8902443e-02,  3.2553073e-02, -3.2949533e-02,  5.2681740e-02,\n         5.1878247e-02,  1.8382192e-02,  4.4274952e-02,  1.7551666e-02,\n         2.2304121e-02,  3.5357367e-02, -2.5281828e-02,  1.2473386e-02,\n         6.5016955e-02,  1.8954594e-02, -2.0273091e-01,  9.5523708e-02,\n        -1.2771620e-01,  8.2465366e-02, -1.6473649e-02, -3.9859116e-02,\n        -2.5076715e-02, -5.0548669e-02,  1.8137607e-01,  2.9488826e-02,\n         4.7990795e-02,  9.0247132e-03,  4.6563540e-02,  1.5346038e-01,\n        -9.5761821e-02, -2.5022049e-02,  3.8924821e-02,  3.2706749e-02,\n        -3.2857087e-02,  5.2528366e-02,  5.2107822e-02,  1.8869525e-02,\n         4.5059379e-02,  1.6272087e-02,  2.0466559e-02,  3.3908993e-02,\n        -2.3856428e-02, -8.5430145e-03,  6.6699795e-02,  6.1495183e-03,\n        -2.0273091e-01,  9.5523708e-02, -1.2771620e-01,  8.2465366e-02,\n        -1.6473642e-02, -3.9859127e-02, -2.5076687e-02, -5.0548814e-02,\n         1.8137565e-01,  2.9489696e-02,  4.7990914e-02,  9.0280753e-03,\n         4.6552625e-02,  1.5344633e-01, -9.5813334e-02, -2.4943218e-02,\n         3.8780324e-02,  3.2461669e-02, -3.2858334e-02,  5.2570205e-02,\n         5.1883042e-02,  1.8401405e-02,  4.4095326e-02,  1.8876381e-02,\n         2.2295430e-02,  3.4182522e-02, -2.4498565e-02, -1.0489449e-02,\n         6.8108775e-02,  6.9146436e-03, -2.0273091e-01,  9.5523708e-02,\n        -1.2771620e-01,  8.2465366e-02, -1.6473647e-02, -3.9859112e-02,\n        -2.5076743e-02, -5.0548606e-02,  1.8137521e-01,  2.9489459e-02,\n         4.7990341e-02,  9.0259323e-03,  4.6559911e-02,  1.5343961e-01,\n        -9.5793784e-02, -2.4987778e-02,  3.8879387e-02,  3.2549001e-02,\n        -3.2877911e-02,  5.2591845e-02,  5.1928516e-02,  1.8348651e-02,\n         4.4323340e-02,  1.7855994e-02,  2.2102149e-02, -3.3577509e-02,\n        -2.3548769e-02, -1.0235629e-02,  6.6263884e-02,  9.7240172e-03]],\n      dtype=float32)>"
     },
     "execution_count": 4,
     "metadata": {},
     "output_type": "execute_result"
    }
   ],
   "source": [
    "from input.dataset.preprocess.dataset_with_trailer_data.trailer_dataset_path_util import \\\n",
    "    get_path_to_trailer_dataset_tensor\n",
    "\n",
    "X, y = DatasetUtil.load_X_y_tensor_datasets(include_trailer=True,path=get_path_to_trailer_dataset_tensor(\"max\", \"pca\"))\n",
    "X[:1, :]"
   ],
   "metadata": {
    "collapsed": false,
    "ExecuteTime": {
     "end_time": "2023-09-18T09:16:58.917406892Z",
     "start_time": "2023-09-18T09:16:58.892795158Z"
    }
   }
  },
  {
   "cell_type": "code",
   "execution_count": 5,
   "outputs": [
    {
     "ename": "NotFoundError",
     "evalue": "/home/teodora/Personal/Uni/isp_project/movie_recommendation_system/data/with_trailer/max_pca/tensor/dev/dataset_spec.pb; No such file or directory",
     "output_type": "error",
     "traceback": [
      "\u001B[0;31m---------------------------------------------------------------------------\u001B[0m",
      "\u001B[0;31mNotFoundError\u001B[0m                             Traceback (most recent call last)",
      "Cell \u001B[0;32mIn[5], line 1\u001B[0m\n\u001B[0;32m----> 1\u001B[0m dataset \u001B[38;5;241m=\u001B[39m \u001B[43mDatasetUtil\u001B[49m\u001B[38;5;241;43m.\u001B[39;49m\u001B[43mload_dataset\u001B[49m\u001B[43m(\u001B[49m\u001B[43mDEV\u001B[49m\u001B[43m,\u001B[49m\u001B[43m \u001B[49m\u001B[43mget_path_to_trailer_dataset_tensor\u001B[49m\u001B[43m(\u001B[49m\u001B[38;5;124;43m\"\u001B[39;49m\u001B[38;5;124;43mmax\u001B[39;49m\u001B[38;5;124;43m\"\u001B[39;49m\u001B[43m,\u001B[49m\u001B[43m \u001B[49m\u001B[38;5;124;43m\"\u001B[39;49m\u001B[38;5;124;43mpca\u001B[39;49m\u001B[38;5;124;43m\"\u001B[39;49m\u001B[43m)\u001B[49m\u001B[43m)\u001B[49m\n\u001B[1;32m      2\u001B[0m dataset\u001B[38;5;241m.\u001B[39mtake(\u001B[38;5;241m1\u001B[39m)\n",
      "File \u001B[0;32m~/Personal/Uni/isp_project/movie_recommendation_system/src/input/dataset/util/util.py:45\u001B[0m, in \u001B[0;36mDatasetUtil.load_dataset\u001B[0;34m(dataset_type, path)\u001B[0m\n\u001B[1;32m     43\u001B[0m \u001B[38;5;129m@staticmethod\u001B[39m\n\u001B[1;32m     44\u001B[0m \u001B[38;5;28;01mdef\u001B[39;00m \u001B[38;5;21mload_dataset\u001B[39m(dataset_type: \u001B[38;5;28mstr\u001B[39m, path: Path):\n\u001B[0;32m---> 45\u001B[0m     \u001B[38;5;28;01mreturn\u001B[39;00m \u001B[43mtf\u001B[49m\u001B[38;5;241;43m.\u001B[39;49m\u001B[43mdata\u001B[49m\u001B[38;5;241;43m.\u001B[39;49m\u001B[43mDataset\u001B[49m\u001B[38;5;241;43m.\u001B[39;49m\u001B[43mload\u001B[49m\u001B[43m(\u001B[49m\u001B[43mpath\u001B[49m\u001B[38;5;241;43m.\u001B[39;49m\u001B[43mjoinpath\u001B[49m\u001B[43m(\u001B[49m\u001B[43mdataset_type\u001B[49m\u001B[43m)\u001B[49m\u001B[38;5;241;43m.\u001B[39;49m\u001B[38;5;21;43m__str__\u001B[39;49m\u001B[43m(\u001B[49m\u001B[43m)\u001B[49m\u001B[43m)\u001B[49m\n",
      "File \u001B[0;32m~/Personal/Uni/isp_project/movie_recommendation_system/venv/bin/python/lib/python3.10/site-packages/tensorflow/python/data/ops/dataset_ops.py:1773\u001B[0m, in \u001B[0;36mDatasetV2.load\u001B[0;34m(path, element_spec, compression, reader_func)\u001B[0m\n\u001B[1;32m   1769\u001B[0m \u001B[38;5;66;03m# Loaded lazily due to a circular dependency (dataset_ops -> load_op ->\u001B[39;00m\n\u001B[1;32m   1770\u001B[0m \u001B[38;5;66;03m# dataset_ops).\u001B[39;00m\n\u001B[1;32m   1771\u001B[0m \u001B[38;5;66;03m# pylint: disable=g-import-not-at-top,protected-access\u001B[39;00m\n\u001B[1;32m   1772\u001B[0m \u001B[38;5;28;01mfrom\u001B[39;00m \u001B[38;5;21;01mtensorflow\u001B[39;00m\u001B[38;5;21;01m.\u001B[39;00m\u001B[38;5;21;01mpython\u001B[39;00m\u001B[38;5;21;01m.\u001B[39;00m\u001B[38;5;21;01mdata\u001B[39;00m\u001B[38;5;21;01m.\u001B[39;00m\u001B[38;5;21;01mops\u001B[39;00m \u001B[38;5;28;01mimport\u001B[39;00m load_op\n\u001B[0;32m-> 1773\u001B[0m \u001B[38;5;28;01mreturn\u001B[39;00m \u001B[43mload_op\u001B[49m\u001B[38;5;241;43m.\u001B[39;49m\u001B[43m_load\u001B[49m\u001B[43m(\u001B[49m\n\u001B[1;32m   1774\u001B[0m \u001B[43m    \u001B[49m\u001B[43mpath\u001B[49m\u001B[38;5;241;43m=\u001B[39;49m\u001B[43mpath\u001B[49m\u001B[43m,\u001B[49m\n\u001B[1;32m   1775\u001B[0m \u001B[43m    \u001B[49m\u001B[43melement_spec\u001B[49m\u001B[38;5;241;43m=\u001B[39;49m\u001B[43melement_spec\u001B[49m\u001B[43m,\u001B[49m\n\u001B[1;32m   1776\u001B[0m \u001B[43m    \u001B[49m\u001B[43mcompression\u001B[49m\u001B[38;5;241;43m=\u001B[39;49m\u001B[43mcompression\u001B[49m\u001B[43m,\u001B[49m\n\u001B[1;32m   1777\u001B[0m \u001B[43m    \u001B[49m\u001B[43mreader_func\u001B[49m\u001B[38;5;241;43m=\u001B[39;49m\u001B[43mreader_func\u001B[49m\u001B[43m)\u001B[49m\n",
      "File \u001B[0;32m~/Personal/Uni/isp_project/movie_recommendation_system/venv/bin/python/lib/python3.10/site-packages/tensorflow/python/data/ops/load_op.py:33\u001B[0m, in \u001B[0;36m_load\u001B[0;34m(path, element_spec, compression, reader_func)\u001B[0m\n\u001B[1;32m     32\u001B[0m \u001B[38;5;28;01mdef\u001B[39;00m \u001B[38;5;21m_load\u001B[39m(path, element_spec, compression, reader_func):\n\u001B[0;32m---> 33\u001B[0m   \u001B[38;5;28;01mreturn\u001B[39;00m \u001B[43m_LoadDataset\u001B[49m\u001B[43m(\u001B[49m\u001B[43mpath\u001B[49m\u001B[43m,\u001B[49m\u001B[43m \u001B[49m\u001B[43melement_spec\u001B[49m\u001B[43m,\u001B[49m\u001B[43m \u001B[49m\u001B[43mcompression\u001B[49m\u001B[43m,\u001B[49m\u001B[43m \u001B[49m\u001B[43mreader_func\u001B[49m\u001B[43m)\u001B[49m\n",
      "File \u001B[0;32m~/Personal/Uni/isp_project/movie_recommendation_system/venv/bin/python/lib/python3.10/site-packages/tensorflow/python/data/ops/load_op.py:54\u001B[0m, in \u001B[0;36m_LoadDataset.__init__\u001B[0;34m(self, path, element_spec, compression, reader_func)\u001B[0m\n\u001B[1;32m     50\u001B[0m   \u001B[38;5;28;01mraise\u001B[39;00m \u001B[38;5;167;01mValueError\u001B[39;00m(\n\u001B[1;32m     51\u001B[0m       \u001B[38;5;124m\"\u001B[39m\u001B[38;5;124mIn graph mode the `element_spec` argument must be provided.\u001B[39m\u001B[38;5;124m\"\u001B[39m)\n\u001B[1;32m     52\u001B[0m \u001B[38;5;28;01mwith\u001B[39;00m gfile\u001B[38;5;241m.\u001B[39mGFile(\n\u001B[1;32m     53\u001B[0m     os\u001B[38;5;241m.\u001B[39mpath\u001B[38;5;241m.\u001B[39mjoin(path, dataset_ops\u001B[38;5;241m.\u001B[39mDATASET_SPEC_FILENAME), \u001B[38;5;124m\"\u001B[39m\u001B[38;5;124mrb\u001B[39m\u001B[38;5;124m\"\u001B[39m) \u001B[38;5;28;01mas\u001B[39;00m f:\n\u001B[0;32m---> 54\u001B[0m   encoded_spec \u001B[38;5;241m=\u001B[39m \u001B[43mf\u001B[49m\u001B[38;5;241;43m.\u001B[39;49m\u001B[43mread\u001B[49m\u001B[43m(\u001B[49m\u001B[43m)\u001B[49m\n\u001B[1;32m     55\u001B[0m struct_pb \u001B[38;5;241m=\u001B[39m nested_structure_coder\u001B[38;5;241m.\u001B[39mstruct_pb2\u001B[38;5;241m.\u001B[39mStructuredValue()\n\u001B[1;32m     56\u001B[0m struct_pb\u001B[38;5;241m.\u001B[39mParseFromString(encoded_spec)\n",
      "File \u001B[0;32m~/Personal/Uni/isp_project/movie_recommendation_system/venv/bin/python/lib/python3.10/site-packages/tensorflow/python/lib/io/file_io.py:116\u001B[0m, in \u001B[0;36mFileIO.read\u001B[0;34m(self, n)\u001B[0m\n\u001B[1;32m    104\u001B[0m \u001B[38;5;28;01mdef\u001B[39;00m \u001B[38;5;21mread\u001B[39m(\u001B[38;5;28mself\u001B[39m, n\u001B[38;5;241m=\u001B[39m\u001B[38;5;241m-\u001B[39m\u001B[38;5;241m1\u001B[39m):\n\u001B[1;32m    105\u001B[0m \u001B[38;5;250m  \u001B[39m\u001B[38;5;124;03m\"\"\"Returns the contents of a file as a string.\u001B[39;00m\n\u001B[1;32m    106\u001B[0m \n\u001B[1;32m    107\u001B[0m \u001B[38;5;124;03m  Starts reading from current position in file.\u001B[39;00m\n\u001B[0;32m   (...)\u001B[0m\n\u001B[1;32m    114\u001B[0m \u001B[38;5;124;03m    string if in string (regular) mode.\u001B[39;00m\n\u001B[1;32m    115\u001B[0m \u001B[38;5;124;03m  \"\"\"\u001B[39;00m\n\u001B[0;32m--> 116\u001B[0m   \u001B[38;5;28;43mself\u001B[39;49m\u001B[38;5;241;43m.\u001B[39;49m\u001B[43m_preread_check\u001B[49m\u001B[43m(\u001B[49m\u001B[43m)\u001B[49m\n\u001B[1;32m    117\u001B[0m   \u001B[38;5;28;01mif\u001B[39;00m n \u001B[38;5;241m==\u001B[39m \u001B[38;5;241m-\u001B[39m\u001B[38;5;241m1\u001B[39m:\n\u001B[1;32m    118\u001B[0m     length \u001B[38;5;241m=\u001B[39m \u001B[38;5;28mself\u001B[39m\u001B[38;5;241m.\u001B[39msize() \u001B[38;5;241m-\u001B[39m \u001B[38;5;28mself\u001B[39m\u001B[38;5;241m.\u001B[39mtell()\n",
      "File \u001B[0;32m~/Personal/Uni/isp_project/movie_recommendation_system/venv/bin/python/lib/python3.10/site-packages/tensorflow/python/lib/io/file_io.py:77\u001B[0m, in \u001B[0;36mFileIO._preread_check\u001B[0;34m(self)\u001B[0m\n\u001B[1;32m     74\u001B[0m \u001B[38;5;28;01mif\u001B[39;00m \u001B[38;5;129;01mnot\u001B[39;00m \u001B[38;5;28mself\u001B[39m\u001B[38;5;241m.\u001B[39m_read_check_passed:\n\u001B[1;32m     75\u001B[0m   \u001B[38;5;28;01mraise\u001B[39;00m errors\u001B[38;5;241m.\u001B[39mPermissionDeniedError(\u001B[38;5;28;01mNone\u001B[39;00m, \u001B[38;5;28;01mNone\u001B[39;00m,\n\u001B[1;32m     76\u001B[0m                                      \u001B[38;5;124m\"\u001B[39m\u001B[38;5;124mFile isn\u001B[39m\u001B[38;5;124m'\u001B[39m\u001B[38;5;124mt open for reading\u001B[39m\u001B[38;5;124m\"\u001B[39m)\n\u001B[0;32m---> 77\u001B[0m \u001B[38;5;28mself\u001B[39m\u001B[38;5;241m.\u001B[39m_read_buf \u001B[38;5;241m=\u001B[39m \u001B[43m_pywrap_file_io\u001B[49m\u001B[38;5;241;43m.\u001B[39;49m\u001B[43mBufferedInputStream\u001B[49m\u001B[43m(\u001B[49m\n\u001B[1;32m     78\u001B[0m \u001B[43m    \u001B[49m\u001B[43mcompat\u001B[49m\u001B[38;5;241;43m.\u001B[39;49m\u001B[43mpath_to_str\u001B[49m\u001B[43m(\u001B[49m\u001B[38;5;28;43mself\u001B[39;49m\u001B[38;5;241;43m.\u001B[39;49m\u001B[43m__name\u001B[49m\u001B[43m)\u001B[49m\u001B[43m,\u001B[49m\u001B[43m \u001B[49m\u001B[38;5;241;43m1024\u001B[39;49m\u001B[43m \u001B[49m\u001B[38;5;241;43m*\u001B[39;49m\u001B[43m \u001B[49m\u001B[38;5;241;43m512\u001B[39;49m\u001B[43m)\u001B[49m\n",
      "\u001B[0;31mNotFoundError\u001B[0m: /home/teodora/Personal/Uni/isp_project/movie_recommendation_system/data/with_trailer/max_pca/tensor/dev/dataset_spec.pb; No such file or directory"
     ]
    }
   ],
   "source": [
    "dataset = DatasetUtil.load_dataset(DEV, get_path_to_trailer_dataset_tensor(\"max\", \"pca\"))\n",
    "dataset.take(1)"
   ],
   "metadata": {
    "collapsed": false,
    "ExecuteTime": {
     "end_time": "2023-09-18T09:16:59.202306299Z",
     "start_time": "2023-09-18T09:16:58.912603501Z"
    }
   }
  }
 ],
 "metadata": {
  "kernelspec": {
   "display_name": "Python 3",
   "language": "python",
   "name": "python3"
  },
  "language_info": {
   "codemirror_mode": {
    "name": "ipython",
    "version": 2
   },
   "file_extension": ".py",
   "mimetype": "text/x-python",
   "name": "python",
   "nbconvert_exporter": "python",
   "pygments_lexer": "ipython2",
   "version": "2.7.6"
  }
 },
 "nbformat": 4,
 "nbformat_minor": 0
}
